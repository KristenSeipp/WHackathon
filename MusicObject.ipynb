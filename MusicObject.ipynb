{
 "cells": [
  {
   "cell_type": "code",
   "execution_count": 26,
   "metadata": {
    "collapsed": true
   },
   "outputs": [],
   "source": [
    "import numpy as np\n",
    "import pyaudio"
   ]
  },
  {
   "cell_type": "code",
   "execution_count": 40,
   "metadata": {
    "collapsed": false
   },
   "outputs": [],
   "source": [
    "\"\"\"\n",
    "this class will generate an abitrary sine wave \n",
    "at some frequency for some duration\n",
    "\"\"\"\n",
    "class waveformGenerator:\n",
    "    noteBaseFreqs = {}\n",
    "    # octave 0 \n",
    "    noteBaseFreqs[( \"C\"  , 0 )] = 16.35\n",
    "    noteBaseFreqs[( \"C#\" , 0 )] = 17.32\n",
    "    noteBaseFreqs[( \"D\"  , 0 )] = 18.35\n",
    "    noteBaseFreqs[( \"D#\" , 0 )] = 19.45\n",
    "    noteBaseFreqs[( \"E\"  , 0 )] = 20.6\n",
    "    noteBaseFreqs[( \"F\"  , 0 )] = 21.83\n",
    "    noteBaseFreqs[( \"F#\" , 0 )] = 23.12\n",
    "    noteBaseFreqs[( \"G\"  , 0 )] = 24.5\n",
    "    noteBaseFreqs[( \"G#\" , 0 )] = 25.96 \n",
    "    noteBaseFreqs[( \"A\"  , 0 )] =  27.50\n",
    "    noteBaseFreqs[( \"A#\" , 0 )] = 29.14\n",
    "    noteBaseFreqs[( \"B\"  , 0 )] = 30.87\n",
    "\n",
    "    # octave 1 \n",
    "    noteBaseFreqs[( \"C\"  , 1 )] = 32.7\n",
    "    noteBaseFreqs[( \"C#\" , 1 )] = 34.65\n",
    "    noteBaseFreqs[( \"D\"  , 1 )] = 36.71\n",
    "    noteBaseFreqs[( \"D#\" , 1 )] = 38.89\n",
    "    noteBaseFreqs[( \"E\"  , 1 )] = 41.2\n",
    "    noteBaseFreqs[( \"F\"  , 1 )] = 43.65\n",
    "    noteBaseFreqs[( \"F#\" , 1 )] = 46.25\n",
    "    noteBaseFreqs[( \"G\"  , 1 )] = 49.0\n",
    "    noteBaseFreqs[( \"G#\" , 1 )] = 51.91 \n",
    "    noteBaseFreqs[( \"A\"  , 1 )] =  55.0\n",
    "    noteBaseFreqs[( \"A#\" , 1 )] = 58.27\n",
    "    noteBaseFreqs[( \"B\"  , 1 )] = 61.74\n",
    "    \n",
    "    #octave 2\n",
    "    noteBaseFreqs[( \"C\"  , 2 )] = 65.41\n",
    "    noteBaseFreqs[( \"C#\" , 2 )] = 69.3\n",
    "    noteBaseFreqs[( \"D\"  , 2 )] = 73.42\n",
    "    noteBaseFreqs[( \"D#\" , 2 )] = 77.78\n",
    "    noteBaseFreqs[( \"E\"  , 2 )] = 82.41\n",
    "    noteBaseFreqs[( \"F\"  , 2 )] = 927.31\n",
    "    noteBaseFreqs[( \"F#\" , 2 )] = 92.5\n",
    "    noteBaseFreqs[( \"G\"  , 2 )] = 98.0\n",
    "    noteBaseFreqs[( \"G#\" , 2 )] = 103.83\n",
    "    noteBaseFreqs[( \"A\"  , 2 )] = 110.0\n",
    "    noteBaseFreqs[( \"A#\" , 2 )] = 116.54\n",
    "    noteBaseFreqs[( \"B\"  , 2 )] = 123.47\n",
    "    \n",
    "    #octave 3 \n",
    "    noteBaseFreqs[( \"C\"  , 3 )] = 130.81\n",
    "    noteBaseFreqs[( \"C#\" , 3 )] = 138.59\n",
    "    noteBaseFreqs[( \"D\"  , 3 )] = 146.83\n",
    "    noteBaseFreqs[( \"D#\" , 3 )] = 155.56\n",
    "    noteBaseFreqs[( \"E\"  , 3 )] = 164.81\n",
    "    noteBaseFreqs[( \"F\"  , 3 )] = 174.61\n",
    "    noteBaseFreqs[( \"F#\" , 3 )] = 185.0\n",
    "    noteBaseFreqs[( \"G\"  , 3 )] = 196.0\n",
    "    noteBaseFreqs[( \"G#\" , 3 )] = 207.65\n",
    "    noteBaseFreqs[( \"A\"  , 3 )] = 220\n",
    "    noteBaseFreqs[( \"A#\" , 3 )] = 233.08\n",
    "    noteBaseFreqs[( \"B\"  , 3 )] = 246.94\n",
    "    \n",
    "    \n",
    "    #octave 4 \n",
    "    noteBaseFreqs[( \"C\"  , 4 )] = 261.63\n",
    "    noteBaseFreqs[( \"C#\" , 4 )] = 277.18\n",
    "    noteBaseFreqs[( \"D\"  , 4 )] = 293.66\n",
    "    noteBaseFreqs[( \"D#\" , 4 )] = 311.13\n",
    "    noteBaseFreqs[( \"E\"  , 4 )] = 329.63\n",
    "    noteBaseFreqs[( \"F\"  , 4 )] = 349.23\n",
    "    noteBaseFreqs[( \"F#\" , 4 )] = 369.99\n",
    "    noteBaseFreqs[( \"G\"  , 4 )] = 392.00\n",
    "    noteBaseFreqs[( \"G#\" , 4 )] = 415.30\n",
    "    noteBaseFreqs[( \"A\"  , 4 )] = 440.0\n",
    "    noteBaseFreqs[( \"A#\" , 4 )] = 466.16\n",
    "    noteBaseFreqs[( \"B\"  , 4 )] = 493.88\n",
    "    \n",
    "    #octave 5 \n",
    "    noteBaseFreqs[( \"C\"  , 5 )] = 523.25\n",
    "    noteBaseFreqs[( \"C#\" , 5 )] = 554.37\n",
    "    noteBaseFreqs[( \"D\"  , 5 )] = 587.33\n",
    "    noteBaseFreqs[( \"D#\" , 5 )] = 622.25\n",
    "    noteBaseFreqs[( \"E\"  , 5 )] = 659.25\n",
    "    noteBaseFreqs[( \"F\"  , 5 )] = 698.46\n",
    "    noteBaseFreqs[( \"F#\" , 5 )] = 739.99\n",
    "    noteBaseFreqs[( \"G\"  , 5 )] = 783.99\n",
    "    noteBaseFreqs[( \"G#\" , 5 )] = 830.61\n",
    "    noteBaseFreqs[( \"A\"  , 5 )] = 880.00\n",
    "    noteBaseFreqs[( \"A#\" , 5 )] = 932.33\n",
    "    noteBaseFreqs[( \"B\"  , 5 )] = 987.77\n",
    "    \n",
    "    #octave 6 \n",
    "    noteBaseFreqs[( \"C\"  , 6 )] = 1046.5\n",
    "    noteBaseFreqs[( \"C#\" , 6 )] = 1108.73\n",
    "    noteBaseFreqs[( \"D\"  , 6 )] = 1174.66\n",
    "    noteBaseFreqs[( \"D#\" , 6 )] = 1244.51\n",
    "    noteBaseFreqs[( \"E\"  , 6 )] = 1318.51\n",
    "    noteBaseFreqs[( \"F\"  , 6 )] = 1396.91\n",
    "    noteBaseFreqs[( \"F#\" , 6 )] = 1479.98\n",
    "    noteBaseFreqs[( \"G\"  , 6 )] = 1567.98\n",
    "    noteBaseFreqs[( \"G#\" , 6 )] = 1661.22\n",
    "    noteBaseFreqs[( \"A\"  , 6 )] = 1760.0\n",
    "    noteBaseFreqs[( \"A#\" , 6 )] = 1864.66\n",
    "    noteBaseFreqs[( \"B\"  , 6 )] = 1975.53    \n",
    "    \n",
    "    #octave 7\n",
    "    noteBaseFreqs[( \"C\"  , 7 )] = 2093.0\n",
    "    noteBaseFreqs[( \"C#\" , 7 )] = 2217.46\n",
    "    noteBaseFreqs[( \"D\"  , 7 )] = 2349.32\n",
    "    noteBaseFreqs[( \"D#\" , 7 )] = 2489.02\n",
    "    noteBaseFreqs[( \"E\"  , 7 )] = 2637.02\n",
    "    noteBaseFreqs[( \"F\"  , 7 )] = 2793.83\n",
    "    noteBaseFreqs[( \"F#\" , 7 )] = 2959.96\n",
    "    noteBaseFreqs[( \"G\"  , 7 )] = 3135.96\n",
    "    noteBaseFreqs[( \"G#\" , 7 )] = 3322.44\n",
    "    noteBaseFreqs[( \"A\"  , 7 )] = 3520.0\n",
    "    noteBaseFreqs[( \"A#\" , 7 )] = 3729.31\n",
    "    noteBaseFreqs[( \"B\"  , 7 )] = 3951.07   \n",
    "    \n",
    "    freqNoteBase = {v: k for k, v in noteBaseFreqs.items()}\n",
    "    \n",
    "    def __init__( self, fs , fourierSize ):\n",
    "        self.initialize( fs , fourierSize )\n",
    "    \n",
    "    def initialize ( self , fs , fourierSize ):\n",
    "        self.fs_       = fs\n",
    "        self.dt_       = 1 / fs\n",
    "        self.fourierSize_ = fourierSize\n",
    "        self.shortFs_     = self.fs_ \n",
    "        self.reset()\n",
    "    \n",
    "    def reset( self ):\n",
    "        self.music_ = 0\n",
    "        \n",
    "        \n",
    "    def calcNumSamples( self , duration ):\n",
    "        self.samples_  = np.arange(self.fs_*duration)\n",
    "    \n",
    "    def makeWaveform( self , f , duration , amp ):\n",
    "        self.calcNumSamples(  duration )\n",
    "        normFreq = 2* np.pi * f / fs\n",
    "        return amp * np.sin( normFreq * self.samples_ ).astype( np.float32 )\n",
    "\n",
    "    #notes is multiple notes , so you can play chords\n",
    "    #notes are a list of tuples \n",
    "    #ie [ (\"C\" , 4 ) , (\"E\",4 ) ,(\"G\", 3)]\n",
    "    def playNote( self, notes , duration ):\n",
    "        samples = 0\n",
    "        for i in notes:\n",
    "            f = self.noteBaseFreqs[ i ]\n",
    "            if( samples == 0 ):\n",
    "            \n",
    "                samples = self.makeWaveform( f , duration )\n",
    "            else:\n",
    "                samples += self.makeWaveform( f , duration )\n",
    "        \n",
    "        return samples\n",
    "    \n",
    "    def compose( self, notes , duration , startTime ):\n",
    "        np.concatenate( self.music_ ,playNote( notes , duration ) )\n",
    "            \n",
    "    \n",
    "    def startPublish( self , songDuration ):\n",
    "        self.song_ = np.zeros( int ( np.ceil (songDuration / self.dt_ ) )  , dtype=np.float32)\n",
    "        \n",
    "    \n",
    "    #row is note\n",
    "    #col is start time\n",
    "    #count is duration\n",
    "    #maxVal is amp\n",
    "    def addNote( self, row, col , count , maxVal ):\n",
    "        note = self.FindNote( row *  ):\n",
    "        self.song_[col:col+count] += self.playNote( )\n",
    "    \n",
    "    def findNote( self , freq ):\n",
    "        for i in freqNoteBase\n",
    "    \n",
    "    def publish( self ):\n",
    "        return self.music_\n",
    "    \n",
    "    \n",
    "    \n"
   ]
  },
  {
   "cell_type": "code",
   "execution_count": 43,
   "metadata": {
    "collapsed": false
   },
   "outputs": [
    {
     "name": "stdout",
     "output_type": "stream",
     "text": [
      "[ 0.          0.01396218  0.02792164 ..., -0.04187565 -0.02792164\n",
      " -0.01396218]\n"
     ]
    }
   ],
   "source": [
    "p = pyaudio.PyAudio()\n",
    "\n",
    "volume = 0.5     # range [0.0, 1.0]\n",
    "fs = 44100       # sampling rate, Hz, must be integer\n",
    "duration = 10.0   # in seconds, may be float\n",
    "f = 440.0        # sine frequency, Hz, may be float\n",
    "\n",
    "waveGen = waveformGenerator( fs )\n",
    "\n",
    "samples = waveGen.playNote( note , duration)\n",
    "\n",
    "print (samples)\n",
    "# for paFloat32 sample values must be in range [-1.0, 1.0]\n",
    "stream = p.open(format=pyaudio.paFloat32,\n",
    "                channels=1,\n",
    "                rate=fs,\n",
    "                output=True)\n",
    "\n",
    "# play. May repeat with different volume values (if done interactively) \n",
    "stream.write(volume*samples)\n",
    "\n",
    "stream.stop_stream()\n",
    "stream.close()\n",
    "\n",
    "p.terminate()"
   ]
  },
  {
   "cell_type": "code",
   "execution_count": 34,
   "metadata": {
    "collapsed": false
   },
   "outputs": [
    {
     "name": "stdout",
     "output_type": "stream",
     "text": [
      "21.533203125\n"
     ]
    }
   ],
   "source": [
    "fs = 44100/2048\n",
    "print( fs )"
   ]
  },
  {
   "cell_type": "code",
   "execution_count": 20,
   "metadata": {
    "collapsed": false
   },
   "outputs": [
    {
     "data": {
      "text/plain": [
       "0.0006802721088435374"
      ]
     },
     "execution_count": 20,
     "metadata": {},
     "output_type": "execute_result"
    }
   ],
   "source": [
    "15/(44100/2)"
   ]
  },
  {
   "cell_type": "code",
   "execution_count": 44,
   "metadata": {
    "collapsed": true
   },
   "outputs": [],
   "source": [
    "fs = 441000"
   ]
  },
  {
   "cell_type": "code",
   "execution_count": 49,
   "metadata": {
    "collapsed": false
   },
   "outputs": [
    {
     "data": {
      "text/plain": [
       "0.005804988662131519"
      ]
     },
     "execution_count": 49,
     "metadata": {},
     "output_type": "execute_result"
    }
   ],
   "source": [
    "1/44100 * 2048/8"
   ]
  },
  {
   "cell_type": "code",
   "execution_count": 51,
   "metadata": {
    "collapsed": false
   },
   "outputs": [],
   "source": [
    "a = np.array( [ 1, 2, 3, 4, 5])"
   ]
  },
  {
   "cell_type": "code",
   "execution_count": 52,
   "metadata": {
    "collapsed": true
   },
   "outputs": [],
   "source": [
    "a[ 2:4] += [ 2 ,3 ]"
   ]
  },
  {
   "cell_type": "code",
   "execution_count": 54,
   "metadata": {
    "collapsed": false
   },
   "outputs": [
    {
     "name": "stdout",
     "output_type": "stream",
     "text": [
      "[1 2 5 7 5]\n"
     ]
    }
   ],
   "source": [
    "print(a)"
   ]
  },
  {
   "cell_type": "code",
   "execution_count": null,
   "metadata": {
    "collapsed": true
   },
   "outputs": [],
   "source": []
  }
 ],
 "metadata": {
  "anaconda-cloud": {},
  "kernelspec": {
   "display_name": "Python [conda root]",
   "language": "python",
   "name": "conda-root-py"
  },
  "language_info": {
   "codemirror_mode": {
    "name": "ipython",
    "version": 3
   },
   "file_extension": ".py",
   "mimetype": "text/x-python",
   "name": "python",
   "nbconvert_exporter": "python",
   "pygments_lexer": "ipython3",
   "version": "3.5.2"
  }
 },
 "nbformat": 4,
 "nbformat_minor": 1
}
