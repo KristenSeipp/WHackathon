{
 "cells": [
  {
   "cell_type": "code",
   "execution_count": 125,
   "metadata": {},
   "outputs": [
    {
     "name": "stdout",
     "output_type": "stream",
     "text": [
      "[[0, 1, 5, 3], [0, 6, 2, 2], [1, 0, 1, 1], [1, 3, 12, 2], [1, 6, 3, 2], [2, 0, 5, 1], [2, 4, 1, 1], [3, 3, 1, 2], [3, 6, 14, 1], [3, 8, 1, 1]]\n"
     ]
    }
   ],
   "source": [
    "import numpy as np\n",
    "from array import *\n",
    "\n",
    "incoming_array = np.array([[0, 2, 1, 5, 0, 0, 2, 1],\n",
    "                          [1, 0, 0, 6, 12, 0, 1, 3],\n",
    "                          [5, 0, 0, 0, 1, 0, 0, 0, 0],\n",
    "                          [0, 0, 0, 1, 1, 0, 14, 0, 1],\n",
    "                          [0, 0, 0, 0, 0, 0, 0, 0, 0]])\n",
    "\n",
    "#analyze a single row of the incoming array\n",
    "def look_at_row(row):\n",
    "    non_zero1 = np.where(np.array(row) > 0.0)  #single out the indexes of all the non-zero indexes\n",
    "    non_zero = non_zero1[0]   # separate out just the index array\n",
    "    len_nz = len(non_zero)    # find length of the non-zero index array\n",
    "    if len_nz > 0:\n",
    "        element = row[non_zero[0]]   # save the information of the first element in 'bit'\n",
    "        bit = [element]\n",
    "        the_return = [non_zero[0]]\n",
    "    else:\n",
    "        bit = []\n",
    "        the_return = []\n",
    "    for i in range(len_nz-1):\n",
    "        diff = non_zero[i+1] - non_zero[i]   # check to see if next element is a neighboring non-zero element\n",
    "        if diff == 1:\n",
    "            element = row[non_zero[i+1]]   # if it is a neighbor, save its information into 'bit'\n",
    "            bit.append(element)\n",
    "        else:\n",
    "            the_return.append(bit)         # if it is not a neighbor, break the previous 'bit' and make a new one\n",
    "            element = row[non_zero[i+1]]\n",
    "            bit = [element]\n",
    "            the_return.append(non_zero[i+1])\n",
    "    the_return.append(bit)                 # save the final bit\n",
    "    return(the_return)\n",
    "        \n",
    "\n",
    "#look at the whole incoming array\n",
    "def make_one_array(incoming_array):\n",
    "    final_array = []\n",
    "    numrows = len(incoming_array)   \n",
    "    for n in range(numrows):\n",
    "        row_info = look_at_row(incoming_array[n])   # break down each row individually\n",
    "        new_array = []\n",
    "        length = len(row_info)\n",
    "        b = 0\n",
    "        while b <= (length-2):                  # save the relevant information to a piece of the final array\n",
    "            this_piece = [n, row_info[b]]\n",
    "            b += 1\n",
    "            this_piece.append(max(row_info[b]))   # save the max volume to the piece\n",
    "            this_piece.append(len(row_info[b]))   # save the count to the piece\n",
    "            b += 1\n",
    "            final_array.append(this_piece)   # add the piece to the final array\n",
    "    return(final_array)\n",
    "            \n",
    "\n",
    "final_array = make_one_array(incoming_array)\n",
    "print(final_array)\n",
    "#[row, column, count, max_volume]\n",
    "\n",
    "incoming_array = np.array([[0, 2, 1, 5, 0, 0, 2, 1],\n",
    "                          [1, 0, 0, 6, 12, 0, 1, 3],\n",
    "                          [5, 0, 0, 0, 1, 0, 0, 0, 0],\n",
    "                          [0, 0, 0, 1, 1, 0, 14, 0, 1],\n",
    "                          [0, 0, 0, 0, 0, 0, 0, 0, 0]])\n"
   ]
  },
  {
   "cell_type": "code",
   "execution_count": 28,
   "metadata": {},
   "outputs": [
    {
     "data": {
      "text/plain": [
       "(array([2, 2, 2]), array([0, 1, 2]))"
      ]
     },
     "execution_count": 28,
     "metadata": {},
     "output_type": "execute_result"
    }
   ],
   "source": [
    "x = np.arange(9.).reshape(3, 3)\n",
    "np.where( x > 5 )"
   ]
  },
  {
   "cell_type": "code",
   "execution_count": null,
   "metadata": {},
   "outputs": [],
   "source": []
  }
 ],
 "metadata": {
  "kernelspec": {
   "display_name": "Python 3",
   "language": "python",
   "name": "python3"
  },
  "language_info": {
   "codemirror_mode": {
    "name": "ipython",
    "version": 3
   },
   "file_extension": ".py",
   "mimetype": "text/x-python",
   "name": "python",
   "nbconvert_exporter": "python",
   "pygments_lexer": "ipython3",
   "version": "3.6.5"
  }
 },
 "nbformat": 4,
 "nbformat_minor": 2
}
