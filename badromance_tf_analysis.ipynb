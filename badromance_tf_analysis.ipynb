{
 "cells": [
  {
   "cell_type": "code",
   "execution_count": 17,
   "metadata": {},
   "outputs": [],
   "source": [
    "# Import libraries\n",
    "import numpy as np\n",
    "import matplotlib as mpl\n",
    "import matplotlib.pyplot as plt\n",
    "from array import *\n",
    "from scipy.io import wavfile as wav\n",
    "from scipy.signal import spectrogram"
   ]
  },
  {
   "cell_type": "code",
   "execution_count": 3,
   "metadata": {},
   "outputs": [],
   "source": [
    "# Read in Bad Romance as numpy array, sum left-right channels\n",
    "fs, data = wav.read('BadRomance.wav')\n",
    "data_sum = np.sum(data, 1)"
   ]
  },
  {
   "cell_type": "code",
   "execution_count": 53,
   "metadata": {},
   "outputs": [],
   "source": [
    "# Take one-sided fft of Bad Romance\n",
    "f, t, Sxx = spectrogram(data_sum, fs=44100, nperseg = 2048, noverlap=1024, return_onesided=True, mode='magnitude')\n",
    "Sxx = Sxx/2048\n",
    "Sxx_filter = Sxx\n",
    "amp_threshold = Sxx_filter < np.amax(Sxx)/16\n",
    "Sxx_filter[amp_threshold] = 0\n",
    "\n",
    "incoming_array = Sxx_filter[:,:215]\n"
   ]
  },
  {
   "cell_type": "code",
   "execution_count": 55,
   "metadata": {},
   "outputs": [
    {
     "data": {
      "text/plain": [
       "'# Plot\\nplt.figure(figsize=(15,8))\\nplt.pcolormesh(t,f, Sxx)\\nplt.ylim([0,2000])\\nplt.ylabel(\\'Frequency [Hz]\\')\\nplt.xlabel(\\'Time [sec]\\')\\nplt.title(\\'Spectrogram of Lady Gaga\\'s \"Bad Romance\"\\', fontsize=20)\\nplt.show()'"
      ]
     },
     "execution_count": 55,
     "metadata": {},
     "output_type": "execute_result"
    }
   ],
   "source": [
    "'''# Plot\n",
    "plt.figure(figsize=(15,8))\n",
    "plt.pcolormesh(t,f, Sxx)\n",
    "plt.ylim([0,2000])\n",
    "plt.ylabel('Frequency [Hz]')\n",
    "plt.xlabel('Time [sec]')\n",
    "plt.title('Spectrogram of Lady Gaga\\'s \"Bad Romance\"', fontsize=20)\n",
    "plt.show()'''"
   ]
  },
  {
   "cell_type": "code",
   "execution_count": 56,
   "metadata": {},
   "outputs": [],
   "source": [
    "#analyze a single row of the incoming array\n",
    "def look_at_row(row):\n",
    "    non_zero1 = np.where(np.array(row) > 0.0)  #single out the indexes of all the non-zero indexes\n",
    "    non_zero = non_zero1[0]   # separate out just the index array\n",
    "    len_nz = len(non_zero)    # find length of the non-zero index array\n",
    "    if len_nz > 0:\n",
    "        element = row[non_zero[0]]   # save the information of the first element in 'bit'\n",
    "        bit = [element]\n",
    "        the_return = [non_zero[0]]\n",
    "    else:\n",
    "        bit = []\n",
    "        the_return = []\n",
    "    for i in range(len_nz-1):\n",
    "        diff = non_zero[i+1] - non_zero[i]   # check to see if next element is a neighboring non-zero element\n",
    "        if diff == 1:\n",
    "            element = row[non_zero[i+1]]   # if it is a neighbor, save its information into 'bit'\n",
    "            bit.append(element)\n",
    "        else:\n",
    "            the_return.append(bit)         # if it is not a neighbor, break the previous 'bit' and make a new one\n",
    "            element = row[non_zero[i+1]]\n",
    "            bit = [element]\n",
    "            the_return.append(non_zero[i+1])\n",
    "    the_return.append(bit)                 # save the final bit\n",
    "    return(the_return)\n",
    "        \n",
    "\n",
    "#look at the whole incoming array\n",
    "def make_one_array(incoming_array):\n",
    "    final_array = []\n",
    "    numrows = len(incoming_array)   \n",
    "    for n in range(numrows):\n",
    "        row_info = look_at_row(incoming_array[n])   # break down each row individually\n",
    "        new_array = []\n",
    "        length = len(row_info)\n",
    "        b = 0\n",
    "        while b <= (length-2):                  # save the relevant information to a piece of the final array\n",
    "            this_piece = [n, row_info[b]]\n",
    "            b += 1\n",
    "            this_piece.append(max(row_info[b]))   # save the max volume to the piece\n",
    "            this_piece.append(len(row_info[b]))   # save the count to the piece\n",
    "            b += 1\n",
    "            final_array.append(this_piece)   # add the piece to the final array\n",
    "    return(final_array)\n",
    "            \n",
    "\n",
    "final_array = make_one_array(incoming_array)\n",
    "#[row, column, count, max_volume]"
   ]
  },
  {
   "cell_type": "code",
   "execution_count": null,
   "metadata": {},
   "outputs": [],
   "source": []
  }
 ],
 "metadata": {
  "kernelspec": {
   "display_name": "Python 3",
   "language": "python",
   "name": "python3"
  },
  "language_info": {
   "codemirror_mode": {
    "name": "ipython",
    "version": 3
   },
   "file_extension": ".py",
   "mimetype": "text/x-python",
   "name": "python",
   "nbconvert_exporter": "python",
   "pygments_lexer": "ipython3",
   "version": "3.6.5"
  }
 },
 "nbformat": 4,
 "nbformat_minor": 2
}
